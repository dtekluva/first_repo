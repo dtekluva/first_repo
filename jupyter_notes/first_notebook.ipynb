{
 "cells": [
  {
   "cell_type": "code",
   "execution_count": 1,
   "metadata": {},
   "outputs": [],
   "source": [
    "x = 1+1"
   ]
  },
  {
   "cell_type": "markdown",
   "metadata": {},
   "source": [
    "for i in range(20):\n",
    "    print(i)"
   ]
  },
  {
   "cell_type": "code",
   "execution_count": 4,
   "metadata": {},
   "outputs": [
    {
     "data": {
      "text/plain": [
       "2"
      ]
     },
     "execution_count": 4,
     "metadata": {},
     "output_type": "execute_result"
    }
   ],
   "source": [
    "x"
   ]
  },
  {
   "cell_type": "code",
   "execution_count": 5,
   "metadata": {},
   "outputs": [
    {
     "data": {
      "text/plain": [
       "'hello world'"
      ]
     },
     "execution_count": 5,
     "metadata": {},
     "output_type": "execute_result"
    }
   ],
   "source": [
    "\"hello world\""
   ]
  },
  {
   "cell_type": "markdown",
   "metadata": {},
   "source": [
    "## HEADING\n",
    "\n",
    "- This is a paragraph\n",
    "- This is another para\n",
    "\n",
    "# DIEUDONNE-DASHBOARD-HTML\n",
    "\n",
    "\n",
    "An app for Visualizing Loan and institutional transactions\n",
    "\n",
    "## Getting started\n",
    "\n",
    "These instructions will help get a copy of this project up and running on your local machine in no time.\n",
    "\n",
    "### Prerequisites\n",
    "\n",
    "What you will need you will need to run this app successfully:\n",
    "```\n",
    "Python 3.7.x\n",
    "\n",
    "Django 3.0.x\n",
    "\n",
    "Python SimpleServer (Comes builtin to python)\n",
    "```\n",
    "\n",
    "You can get Python [here](https://www.python.org/downloads/release/python-370/) and PostgreSQL [here](https://www.postgresql.org/download/)\n",
    "\n",
    "### Installation\n",
    "\n",
    "You can install and setup this project locally using the following steps:\n",
    "\n",
    "Download the app from the GitHub Repo\n",
    "```\n",
    "> git clone https://github.com/dtekluva/DIEUDONE_CRM_ANALYTICS.git\n",
    "\n",
    "> cd DIEUDONE_CRM_ANALYTICS\n",
    "```\n",
    "\n",
    "```\n",
    "> git clone https://github.com/dtekluva/DIEUDONNE-DASHBOARD-HTML.git\n",
    "\n",
    "> cd DIEUDONNE-DASHBOARD-HTML\n",
    "```\n",
    "\n",
    "### Setup\n",
    "\n",
    "Update Database values to point new host: \n",
    "\n",
    "In settings.py update the following \n",
    "\n",
    "```\n",
    "HOST =     \"<HOSTNAME>\"\n",
    "USERNAME = \"<USERNAME>\"\n",
    "PASSWORD = \"<XXXXXXX>\"\n",
    "DB =       \"<DB_NAME>\"\n",
    "```\n",
    "\n",
    "Start python server: \n",
    "\n",
    "```\n",
    "> python manage.py runserver\n",
    "```\n",
    "\n",
    "Start Simple local server (To serve HTML): \n",
    "\n",
    "```\n",
    "> python -m http.server <port-value>\n",
    "```\n",
    "\n",
    "### Usage\n",
    "\n",
    "Visit webpage:\n",
    "\n",
    "```\n",
    "localhost:<port_name>\n",
    "```\n",
    "\n",
    "<h1 style = \"color:brown;\">This is a red text</h1>"
   ]
  },
  {
   "cell_type": "code",
   "execution_count": null,
   "metadata": {},
   "outputs": [],
   "source": []
  }
 ],
 "metadata": {
  "kernelspec": {
   "display_name": "Python 3",
   "language": "python",
   "name": "python3"
  },
  "language_info": {
   "codemirror_mode": {
    "name": "ipython",
    "version": 3
   },
   "file_extension": ".py",
   "mimetype": "text/x-python",
   "name": "python",
   "nbconvert_exporter": "python",
   "pygments_lexer": "ipython3",
   "version": "3.7.8"
  }
 },
 "nbformat": 4,
 "nbformat_minor": 4
}
