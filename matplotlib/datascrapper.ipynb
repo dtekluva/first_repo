{
 "cells": [
  {
   "cell_type": "code",
   "execution_count": 1,
   "metadata": {},
   "outputs": [],
   "source": [
    "import requests\n",
    "import pandas as pd\n",
    "import io\n",
    "import numpy as np"
   ]
  },
  {
   "cell_type": "code",
   "execution_count": 2,
   "metadata": {},
   "outputs": [],
   "source": [
    "response = requests.get(\"https://data.humdata.org/hxlproxy/api/data-preview.csv?url=https%3A%2F%2Fraw.githubusercontent.com%2FCSSEGISandData%2FCOVID-19%2Fmaster%2Fcsse_covid_19_data%2Fcsse_covid_19_time_series%2Ftime_series_covid19_confirmed_global.csv&filename=time_series_covid19_confirmed_global.csv\")"
   ]
  },
  {
   "cell_type": "code",
   "execution_count": 3,
   "metadata": {},
   "outputs": [],
   "source": [
    "data=pd.read_csv(io.StringIO(response.content.decode('utf-8')))"
   ]
  },
  {
   "cell_type": "code",
   "execution_count": 4,
   "metadata": {},
   "outputs": [
    {
     "data": {
      "text/html": [
       "<div>\n",
       "<style scoped>\n",
       "    .dataframe tbody tr th:only-of-type {\n",
       "        vertical-align: middle;\n",
       "    }\n",
       "\n",
       "    .dataframe tbody tr th {\n",
       "        vertical-align: top;\n",
       "    }\n",
       "\n",
       "    .dataframe thead th {\n",
       "        text-align: right;\n",
       "    }\n",
       "</style>\n",
       "<table border=\"1\" class=\"dataframe\">\n",
       "  <thead>\n",
       "    <tr style=\"text-align: right;\">\n",
       "      <th></th>\n",
       "      <th>Province/State</th>\n",
       "      <th>Country/Region</th>\n",
       "      <th>Lat</th>\n",
       "      <th>Long</th>\n",
       "      <th>1/22/20</th>\n",
       "      <th>1/23/20</th>\n",
       "      <th>1/24/20</th>\n",
       "      <th>1/25/20</th>\n",
       "      <th>1/26/20</th>\n",
       "      <th>1/27/20</th>\n",
       "      <th>...</th>\n",
       "      <th>6/4/20</th>\n",
       "      <th>6/5/20</th>\n",
       "      <th>6/6/20</th>\n",
       "      <th>6/7/20</th>\n",
       "      <th>6/8/20</th>\n",
       "      <th>6/9/20</th>\n",
       "      <th>6/10/20</th>\n",
       "      <th>6/11/20</th>\n",
       "      <th>6/12/20</th>\n",
       "      <th>6/13/20</th>\n",
       "    </tr>\n",
       "  </thead>\n",
       "  <tbody>\n",
       "    <tr>\n",
       "      <th>0</th>\n",
       "      <td>NaN</td>\n",
       "      <td>Afghanistan</td>\n",
       "      <td>33.0000</td>\n",
       "      <td>65.0000</td>\n",
       "      <td>0</td>\n",
       "      <td>0</td>\n",
       "      <td>0</td>\n",
       "      <td>0</td>\n",
       "      <td>0</td>\n",
       "      <td>0</td>\n",
       "      <td>...</td>\n",
       "      <td>18054</td>\n",
       "      <td>18969</td>\n",
       "      <td>19551</td>\n",
       "      <td>20342</td>\n",
       "      <td>20917</td>\n",
       "      <td>21459</td>\n",
       "      <td>22142</td>\n",
       "      <td>22890</td>\n",
       "      <td>23546</td>\n",
       "      <td>24102</td>\n",
       "    </tr>\n",
       "    <tr>\n",
       "      <th>1</th>\n",
       "      <td>NaN</td>\n",
       "      <td>Albania</td>\n",
       "      <td>41.1533</td>\n",
       "      <td>20.1683</td>\n",
       "      <td>0</td>\n",
       "      <td>0</td>\n",
       "      <td>0</td>\n",
       "      <td>0</td>\n",
       "      <td>0</td>\n",
       "      <td>0</td>\n",
       "      <td>...</td>\n",
       "      <td>1197</td>\n",
       "      <td>1212</td>\n",
       "      <td>1232</td>\n",
       "      <td>1246</td>\n",
       "      <td>1263</td>\n",
       "      <td>1299</td>\n",
       "      <td>1341</td>\n",
       "      <td>1385</td>\n",
       "      <td>1416</td>\n",
       "      <td>1464</td>\n",
       "    </tr>\n",
       "    <tr>\n",
       "      <th>2</th>\n",
       "      <td>NaN</td>\n",
       "      <td>Algeria</td>\n",
       "      <td>28.0339</td>\n",
       "      <td>1.6596</td>\n",
       "      <td>0</td>\n",
       "      <td>0</td>\n",
       "      <td>0</td>\n",
       "      <td>0</td>\n",
       "      <td>0</td>\n",
       "      <td>0</td>\n",
       "      <td>...</td>\n",
       "      <td>9831</td>\n",
       "      <td>9935</td>\n",
       "      <td>10050</td>\n",
       "      <td>10154</td>\n",
       "      <td>10265</td>\n",
       "      <td>10382</td>\n",
       "      <td>10484</td>\n",
       "      <td>10589</td>\n",
       "      <td>10698</td>\n",
       "      <td>10810</td>\n",
       "    </tr>\n",
       "    <tr>\n",
       "      <th>3</th>\n",
       "      <td>NaN</td>\n",
       "      <td>Andorra</td>\n",
       "      <td>42.5063</td>\n",
       "      <td>1.5218</td>\n",
       "      <td>0</td>\n",
       "      <td>0</td>\n",
       "      <td>0</td>\n",
       "      <td>0</td>\n",
       "      <td>0</td>\n",
       "      <td>0</td>\n",
       "      <td>...</td>\n",
       "      <td>852</td>\n",
       "      <td>852</td>\n",
       "      <td>852</td>\n",
       "      <td>852</td>\n",
       "      <td>852</td>\n",
       "      <td>852</td>\n",
       "      <td>852</td>\n",
       "      <td>852</td>\n",
       "      <td>853</td>\n",
       "      <td>853</td>\n",
       "    </tr>\n",
       "    <tr>\n",
       "      <th>4</th>\n",
       "      <td>NaN</td>\n",
       "      <td>Angola</td>\n",
       "      <td>-11.2027</td>\n",
       "      <td>17.8739</td>\n",
       "      <td>0</td>\n",
       "      <td>0</td>\n",
       "      <td>0</td>\n",
       "      <td>0</td>\n",
       "      <td>0</td>\n",
       "      <td>0</td>\n",
       "      <td>...</td>\n",
       "      <td>86</td>\n",
       "      <td>86</td>\n",
       "      <td>88</td>\n",
       "      <td>91</td>\n",
       "      <td>92</td>\n",
       "      <td>96</td>\n",
       "      <td>113</td>\n",
       "      <td>118</td>\n",
       "      <td>130</td>\n",
       "      <td>138</td>\n",
       "    </tr>\n",
       "  </tbody>\n",
       "</table>\n",
       "<p>5 rows × 148 columns</p>\n",
       "</div>"
      ],
      "text/plain": [
       "  Province/State Country/Region      Lat     Long  1/22/20  1/23/20  1/24/20  \\\n",
       "0            NaN    Afghanistan  33.0000  65.0000        0        0        0   \n",
       "1            NaN        Albania  41.1533  20.1683        0        0        0   \n",
       "2            NaN        Algeria  28.0339   1.6596        0        0        0   \n",
       "3            NaN        Andorra  42.5063   1.5218        0        0        0   \n",
       "4            NaN         Angola -11.2027  17.8739        0        0        0   \n",
       "\n",
       "   1/25/20  1/26/20  1/27/20   ...     6/4/20  6/5/20  6/6/20  6/7/20  6/8/20  \\\n",
       "0        0        0        0   ...      18054   18969   19551   20342   20917   \n",
       "1        0        0        0   ...       1197    1212    1232    1246    1263   \n",
       "2        0        0        0   ...       9831    9935   10050   10154   10265   \n",
       "3        0        0        0   ...        852     852     852     852     852   \n",
       "4        0        0        0   ...         86      86      88      91      92   \n",
       "\n",
       "   6/9/20  6/10/20  6/11/20  6/12/20  6/13/20  \n",
       "0   21459    22142    22890    23546    24102  \n",
       "1    1299     1341     1385     1416     1464  \n",
       "2   10382    10484    10589    10698    10810  \n",
       "3     852      852      852      853      853  \n",
       "4      96      113      118      130      138  \n",
       "\n",
       "[5 rows x 148 columns]"
      ]
     },
     "execution_count": 4,
     "metadata": {},
     "output_type": "execute_result"
    }
   ],
   "source": [
    "data.head()"
   ]
  },
  {
   "cell_type": "code",
   "execution_count": 5,
   "metadata": {},
   "outputs": [],
   "source": [
    "aggregated_data = data.groupby(\"Country/Region\").sum()"
   ]
  },
  {
   "cell_type": "code",
   "execution_count": 6,
   "metadata": {},
   "outputs": [
    {
     "data": {
      "text/plain": [
       "1567423"
      ]
     },
     "execution_count": 6,
     "metadata": {},
     "output_type": "execute_result"
    }
   ],
   "source": [
    "aggregated_data[\"4/9/20\"].sum()"
   ]
  },
  {
   "cell_type": "code",
   "execution_count": 7,
   "metadata": {},
   "outputs": [
    {
     "ename": "SyntaxError",
     "evalue": "invalid syntax (<ipython-input-7-15d6d590e0df>, line 10)",
     "output_type": "error",
     "traceback": [
      "\u001b[1;36m  File \u001b[1;32m\"<ipython-input-7-15d6d590e0df>\"\u001b[1;36m, line \u001b[1;32m10\u001b[0m\n\u001b[1;33m    return df, datesresponse = requests.get(cases_url)\u001b[0m\n\u001b[1;37m                             ^\u001b[0m\n\u001b[1;31mSyntaxError\u001b[0m\u001b[1;31m:\u001b[0m invalid syntax\n"
     ]
    }
   ],
   "source": [
    "cases_url = \"https://data.humdata.org/hxlproxy/api/data-preview.csv?url=https%3A%2F%2Fraw.githubusercontent.com%2FCSSEGISandData%2FCOVID-19%2Fmaster%2Fcsse_covid_19_data%2Fcsse_covid_19_time_series%2Ftime_series_covid19_confirmed_global.csv&filename=time_series_covid19_confirmed_global.csv\"\n",
    "recov_url = \"https://data.humdata.org/hxlproxy/api/data-preview.csv?url=https%3A%2F%2Fraw.githubusercontent.com%2FCSSEGISandData%2FCOVID-19%2Fmaster%2Fcsse_covid_19_data%2Fcsse_covid_19_time_series%2Ftime_series_covid19_recovered_global.csv&filename=time_series_covid19_recovered_global.csv\"\n",
    "deaths_url= \"https://data.humdata.org/hxlproxy/api/data-preview.csv?url=https%3A%2F%2Fraw.githubusercontent.com%2FCSSEGISandData%2FCOVID-19%2Fmaster%2Fcsse_covid_19_data%2Fcsse_covid_19_time_series%2Ftime_series_covid19_deaths_global.csv&filename=time_series_covid19_deaths_global.csv\"\n",
    "\n",
    "def correct_colnames(df):\n",
    "    dates = list(df.columns)[4:]\n",
    "    dates = list(map(lambda x: (x + \"20\"), dates))\n",
    "    df.columns = [ *list(df.columns)[:4], *dates]\n",
    "    \n",
    "    return df, datesresponse = requests.get(cases_url)\n",
    "data=pd.read_csv(io.StringIO(response.content.decode('utf-8')))"
   ]
  },
  {
   "cell_type": "code",
   "execution_count": 21,
   "metadata": {},
   "outputs": [],
   "source": [
    "def correct_colnames(df):\n",
    "    dates = list(df.columns)[4:]\n",
    "    dates = list(map(lambda x: (x + \"20\"), dates))\n",
    "    df.columns = [ *list(df.columns)[:4], *dates]\n",
    "    \n",
    "    return df.groupby(\"Country/Region\").sum(), dates\n",
    "\n",
    "cases_url = \"https://data.humdata.org/hxlproxy/api/data-preview.csv?url=https%3A%2F%2Fraw.githubusercontent.com%2FCSSEGISandData%2FCOVID-19%2Fmaster%2Fcsse_covid_19_data%2Fcsse_covid_19_time_series%2Ftime_series_covid19_confirmed_global.csv&filename=time_series_covid19_confirmed_global.csv\"\n",
    "recov_url = \"https://data.humdata.org/hxlproxy/api/data-preview.csv?url=https%3A%2F%2Fraw.githubusercontent.com%2FCSSEGISandData%2FCOVID-19%2Fmaster%2Fcsse_covid_19_data%2Fcsse_covid_19_time_series%2Ftime_series_covid19_recovered_global.csv&filename=time_series_covid19_recovered_global.csv\"\n",
    "deaths_url= \"https://data.humdata.org/hxlproxy/api/data-preview.csv?url=https%3A%2F%2Fraw.githubusercontent.com%2FCSSEGISandData%2FCOVID-19%2Fmaster%2Fcsse_covid_19_data%2Fcsse_covid_19_time_series%2Ftime_series_covid19_deaths_global.csv&filename=time_series_covid19_deaths_global.csv\"\n",
    "\n",
    "response = requests.get(cases_url)\n",
    "data_cases = correct_colnames(pd.read_csv(io.StringIO(response.content.decode('utf-8'))))[0]\n",
    "\n",
    "response = requests.get(recov_url)\n",
    "data_recov = correct_colnames(pd.read_csv(io.StringIO(response.content.decode('utf-8'))))[0]\n",
    "\n",
    "response = requests.get(deaths_url)\n",
    "data_deaths = correct_colnames(pd.read_csv(io.StringIO(response.content.decode('utf-8'))))[0]"
   ]
  },
  {
   "cell_type": "code",
   "execution_count": null,
   "metadata": {},
   "outputs": [],
   "source": [
    "data_cases = data_cases.reset_index()"
   ]
  },
  {
   "cell_type": "code",
   "execution_count": null,
   "metadata": {},
   "outputs": [],
   "source": [
    "# list(data_cases[data_cases[\"Country/Region\"].str.lower() == \"nigeria\"].iloc[0])[3:]"
   ]
  },
  {
   "cell_type": "code",
   "execution_count": null,
   "metadata": {},
   "outputs": [],
   "source": [
    "data_deaths"
   ]
  },
  {
   "cell_type": "code",
   "execution_count": null,
   "metadata": {
    "scrolled": false
   },
   "outputs": [],
   "source": [
    "pd.set_option('display.max_rows', 1000)\n",
    "correct_colnames(data)[0]"
   ]
  },
  {
   "cell_type": "code",
   "execution_count": null,
   "metadata": {},
   "outputs": [],
   "source": []
  },
  {
   "cell_type": "code",
   "execution_count": null,
   "metadata": {},
   "outputs": [],
   "source": []
  },
  {
   "cell_type": "code",
   "execution_count": null,
   "metadata": {},
   "outputs": [],
   "source": [
    "from bs4 import BeautifulSoup as bs4"
   ]
  },
  {
   "cell_type": "code",
   "execution_count": null,
   "metadata": {},
   "outputs": [],
   "source": [
    "wiki_url = \"https://en.wikipedia.org/wiki/2019%E2%80%9320_coronavirus_pandemic_by_country_and_territory#Pandemic_by_country_and_territory\"\n",
    "data = requests.get(wiki_url)"
   ]
  },
  {
   "cell_type": "code",
   "execution_count": null,
   "metadata": {},
   "outputs": [],
   "source": [
    "html = bs4(data.content)"
   ]
  },
  {
   "cell_type": "code",
   "execution_count": null,
   "metadata": {},
   "outputs": [],
   "source": [
    "table = html.find('tr')"
   ]
  },
  {
   "cell_type": "code",
   "execution_count": null,
   "metadata": {},
   "outputs": [],
   "source": [
    "table"
   ]
  },
  {
   "cell_type": "code",
   "execution_count": null,
   "metadata": {},
   "outputs": [],
   "source": [
    "dfs = pd.read_html(wiki_url,header=0)"
   ]
  },
  {
   "cell_type": "code",
   "execution_count": null,
   "metadata": {},
   "outputs": [],
   "source": [
    "dataframe = dfs[1]"
   ]
  },
  {
   "cell_type": "code",
   "execution_count": null,
   "metadata": {},
   "outputs": [],
   "source": [
    "dataframe.head()"
   ]
  },
  {
   "cell_type": "code",
   "execution_count": null,
   "metadata": {},
   "outputs": [],
   "source": [
    "dataframe.columns = [\"province\", \"countries\", \"cases\", \"deaths\", \"recoveries\", \"err1\"]"
   ]
  },
  {
   "cell_type": "code",
   "execution_count": null,
   "metadata": {},
   "outputs": [],
   "source": [
    "dataframe = dataframe.replace( \"–\", 0 )"
   ]
  },
  {
   "cell_type": "code",
   "execution_count": null,
   "metadata": {},
   "outputs": [],
   "source": [
    "dataframe.iloc[1:-2].cases.astype(\"int\").sum()"
   ]
  },
  {
   "cell_type": "code",
   "execution_count": null,
   "metadata": {},
   "outputs": [],
   "source": [
    "dataframe[dataframe.countries == \"Nigeria\"]"
   ]
  },
  {
   "cell_type": "code",
   "execution_count": null,
   "metadata": {},
   "outputs": [],
   "source": [
    "# dataframe = dataframe.drop(columns = [\"province\"])"
   ]
  },
  {
   "cell_type": "code",
   "execution_count": null,
   "metadata": {},
   "outputs": [],
   "source": [
    "dfs = pd.read_html(wiki_url,header=0)\n",
    "dataframe = dfs[1]\n",
    "dataframe.columns = [\"province\", \"countries\", \"cases\", \"deaths\", \"recoveries\", \"err1\"]\n",
    "dataframe = dataframe.drop(columns = [\"province\"])\n",
    "dataframe = dataframe.replace( \"–\", 0 )\n",
    "\n",
    "country_name = \"\"\n",
    "cases = 0\n",
    "deaths = 0\n",
    "recoveries = 0\n",
    "\n",
    "total_cases = 0\n",
    "total_deaths = 0\n",
    "total_recoveries = 0\n",
    "\n",
    "global_data = dataframe.iloc[0]\n",
    "\n",
    "global_cases = int(global_data[\"countries\"].encode(\"ascii\", errors=\"ignore\").decode().replace(\",\",\"\"))\n",
    "global_deaths = int(global_data[\"cases\"].encode(\"ascii\", errors=\"ignore\").decode().replace(\",\",\"\"))\n",
    "global_recoveries = int(global_data[\"deaths\"].encode(\"ascii\", errors=\"ignore\").decode().replace(\",\",\"\"))\n",
    "\n",
    "print(global_cases, global_deaths, global_recoveries)\n",
    "for i in range(1, len(dataframe)):\n",
    "    data = (dataframe.iloc[i])\n",
    "\n",
    "    try :\n",
    "        if not isinstance(data[0], float):\n",
    "#             print( data )\n",
    "            country_name = data[\"countries\"].split(\"[\")[0]\n",
    "            cases = data[\"cases\"]\n",
    "            deaths = data[\"deaths\"]\n",
    "            recoveries = data[\"recoveries\"]\n",
    "            \n",
    "            print(country_name, cases, deaths, recoveries, sep = \" -||- \")\n",
    "    except TypeError:\n",
    "        pass"
   ]
  },
  {
   "cell_type": "code",
   "execution_count": null,
   "metadata": {},
   "outputs": [],
   "source": [
    "students = {'hours': [29, 9, 10, 38, 16, 26, 50, 10, 30, 33, 43, 2, 39, 15, 44, 29, 41, 15, 24, 50],\n",
    "            'test_results': [65, 7, 8, 76, 23, 56, 100, 3, 74, 48, 73, 0, 62, 37, 74, 40, 90, 42, 58, 100]}"
   ]
  },
  {
   "cell_type": "code",
   "execution_count": null,
   "metadata": {},
   "outputs": [],
   "source": [
    "qs = qss[:]\n",
    "len(qs)"
   ]
  },
  {
   "cell_type": "code",
   "execution_count": null,
   "metadata": {},
   "outputs": [],
   "source": [
    "x1d = np.polyfit(students[\"hours\"], students[\"test_results\"], 1 )\n",
    "x2d = np.polyfit(students[\"hours\"], students[\"test_results\"], 1 )"
   ]
  },
  {
   "cell_type": "code",
   "execution_count": null,
   "metadata": {},
   "outputs": [],
   "source": [
    "from sklearn.metrics import r2_score\n",
    "import numpy as np\n",
    "\n",
    "def create_model(data):\n",
    "    \n",
    "    model = np.polyfit(list(range(len(data))), data, 4 )\n",
    "    predict = np.poly1d(model)\n",
    "    accuracy = r2_score(qs, predict(list(range(len(qs)))))\n",
    "    \n",
    "    return predict, accuracy"
   ]
  },
  {
   "cell_type": "code",
   "execution_count": null,
   "metadata": {},
   "outputs": [],
   "source": [
    "predictor, accuracy = create_model(qs)"
   ]
  },
  {
   "cell_type": "code",
   "execution_count": null,
   "metadata": {},
   "outputs": [],
   "source": [
    "import matplotlib.pyplot as plt\n",
    "plt.style.use(\"ggplot\")\n",
    "xp = np.linspace(0, 100, 100)\n",
    "_ = plt.plot(list(range(len(qs))), qs, '.',  predict1(xp), '--')\n",
    "plt.ylim(-20,1000)\n",
    "plt.xlim(-2,60)\n",
    "plt.show()"
   ]
  },
  {
   "cell_type": "code",
   "execution_count": null,
   "metadata": {},
   "outputs": [],
   "source": []
  },
  {
   "cell_type": "code",
   "execution_count": null,
   "metadata": {},
   "outputs": [],
   "source": []
  },
  {
   "cell_type": "code",
   "execution_count": null,
   "metadata": {},
   "outputs": [],
   "source": [
    "q = [(0,), (0,), (0,), (0,), (0,), (0,), (0,), (0,), (0,), (0,), (0,), (0,), (0,), (0,), (0,), (0,), (0,), (0,), (0,), (0,), (0,), (0,), (0,), (0,), (0,), (0,), (0,), (0,), (0,), (0,), (0,), (0,), (0,), (0,), (0,), (0,), (0,), (1,), (1,), (1,), (1,), (1,), (1,), (1,), (1,), (1,), (1,), (2,), (2,), (2,), (2,), (2,), (2,), (2,), (2,), (3,), (8,), (8,), (12,), (22,), (30,), (40,), (44,), (51,), (65,), (70,), (89,), (111,), (131,), (135,), (174,), (184,), (210,), (214,), (232,), (238,), (254,), (276,), (288,), (305,), (318,), (323,), (343,), (373,), (407,), (442,), (541,)]\n",
    "qss = []"
   ]
  },
  {
   "cell_type": "code",
   "execution_count": null,
   "metadata": {},
   "outputs": [],
   "source": [
    "for item in q:\n",
    "    qss.append(item[0])"
   ]
  },
  {
   "cell_type": "code",
   "execution_count": null,
   "metadata": {},
   "outputs": [],
   "source": []
  },
  {
   "cell_type": "code",
   "execution_count": null,
   "metadata": {},
   "outputs": [],
   "source": []
  },
  {
   "cell_type": "code",
   "execution_count": null,
   "metadata": {},
   "outputs": [],
   "source": []
  },
  {
   "cell_type": "code",
   "execution_count": null,
   "metadata": {},
   "outputs": [],
   "source": []
  },
  {
   "cell_type": "code",
   "execution_count": null,
   "metadata": {},
   "outputs": [],
   "source": []
  },
  {
   "cell_type": "code",
   "execution_count": null,
   "metadata": {},
   "outputs": [],
   "source": []
  },
  {
   "cell_type": "code",
   "execution_count": null,
   "metadata": {},
   "outputs": [],
   "source": []
  },
  {
   "cell_type": "code",
   "execution_count": null,
   "metadata": {},
   "outputs": [],
   "source": [
    "data[data[\"Country/Region\"] == \"Nigeria\"]"
   ]
  },
  {
   "cell_type": "code",
   "execution_count": null,
   "metadata": {},
   "outputs": [],
   "source": [
    "dates = data.columns[::10]"
   ]
  },
  {
   "cell_type": "code",
   "execution_count": null,
   "metadata": {},
   "outputs": [],
   "source": [
    "dates"
   ]
  },
  {
   "cell_type": "code",
   "execution_count": null,
   "metadata": {},
   "outputs": [],
   "source": [
    "algeria = data.iloc[2][::10]\n",
    "nigeria = data.iloc[173][::10]"
   ]
  },
  {
   "cell_type": "code",
   "execution_count": null,
   "metadata": {},
   "outputs": [],
   "source": [
    "plt.figure( figsize=(13, 6))\n",
    "plt.plot(dates, algeria, label = \"algeria\")\n",
    "plt.plot(dates, nigeria, label = \"nigeria\")\n",
    "plt.xticks(rotation=90)\n",
    "plt.xlabel(\"Cases\")\n",
    "plt.ylabel(\"Date Measured\")\n",
    "plt.legend()\n",
    "plt.title(\"Covid Cases Comparison\")\n",
    "plt.savefig(\"plot.pdf\")"
   ]
  },
  {
   "cell_type": "code",
   "execution_count": 29,
   "metadata": {},
   "outputs": [],
   "source": [
    "# Load libraries\n",
    "import pandas as pd\n",
    "import matplotlib.pylab as plt\n",
    "import seaborn as sns\n",
    "\n",
    "# Create example dataframe\n",
    "df = pd.DataFrame({\n",
    "'x': [1, 1.1, 1.2, 2, 5],\n",
    "'y': [5, 15, 7, 10, 2],\n",
    "'s': [1000,2000,3000,4000,5000],\n",
    "'group': ['Stamford','Yale','Harvard','MIT','Cambridge']\n",
    "})\n",
    "\n",
    "#Create figure\n",
    "plt.figure(figsize = (10,7))\n",
    "\n",
    "# Create scatterplot. alpha controls the opacity and s controls the size.\n",
    "ax = sns.scatterplot(df.x, df.y, alpha = 0.5,s = df.s)\n",
    "\n",
    "ax.set_xlim(0,6)\n",
    "ax.set_ylim(-2, 18)\n",
    "#For each point, we add a text inside the bubble\n",
    "for line in range(0,df.shape[0]):\n",
    "     ax.text(df.x[line], df.y[line], df.group[line], horizontalalignment='center', size='medium', color='black', weight='semibold')"
   ]
  },
  {
   "cell_type": "code",
   "execution_count": null,
   "metadata": {},
   "outputs": [],
   "source": [
    "# Load libraries\n",
    "import pandas as pd\n",
    "import matplotlib.pylab as plt\n",
    "import seaborn as sns\n",
    "\n",
    "# Create example dataframe\n",
    "df = pd.DataFrame({\n",
    "'Sleep_Hours': [2,4,3,1,2],\n",
    "'Reading_Hours': [6,3,7,5,2],\n",
    "'Score': [20,70,40,15,50],\n",
    "'Names': ['Bola','Sinzu', \"Bala\",'Hushpuppi','Spending']\n",
    "})\n",
    "\n",
    "#Create figure\n",
    "plt.figure(figsize = (10,7))\n",
    "\n",
    "# Create scatterplot. alpha controls the opacity and s controls the size.\n",
    "ax = sns.scatterplot(df.Reading_Hours, df.Sleep_Hours, alpha = 0.5,s = df.Score*100)\n",
    "\n",
    "ax.set_xlim(0,10)\n",
    "ax.set_ylim(-2, 6)\n",
    "print(df.shape[0])\n",
    "#For each point, we add a text inside the bubble\n",
    "for line in range(0,df.shape[0]):\n",
    "     ax.text(df.Reading_Hours[line], df.Sleep_Hours[line], df.Names[line], horizontalalignment='center', size='medium', color='black', weight='semibold')"
   ]
  },
  {
   "cell_type": "code",
   "execution_count": 24,
   "metadata": {},
   "outputs": [],
   "source": [
    "cases_url = \"https://data.humdata.org/hxlproxy/api/data-preview.csv?url=https%3A%2F%2Fraw.githubusercontent.com%2FCSSEGISandData%2FCOVID-19%2Fmaster%2Fcsse_covid_19_data%2Fcsse_covid_19_time_series%2Ftime_series_covid19_confirmed_global.csv&filename=time_series_covid19_confirmed_global.csv\"\n",
    "recov_url = \"https://data.humdata.org/hxlproxy/api/data-preview.csv?url=https%3A%2F%2Fraw.githubusercontent.com%2FCSSEGISandData%2FCOVID-19%2Fmaster%2Fcsse_covid_19_data%2Fcsse_covid_19_time_series%2Ftime_series_covid19_recovered_global.csv&filename=time_series_covid19_recovered_global.csv\"\n",
    "deaths_url= \"https://data.humdata.org/hxlproxy/api/data-preview.csv?url=https%3A%2F%2Fraw.githubusercontent.com%2FCSSEGISandData%2FCOVID-19%2Fmaster%2Fcsse_covid_19_data%2Fcsse_covid_19_time_series%2Ftime_series_covid19_deaths_global.csv&filename=time_series_covid19_deaths_global.csv\"\n",
    "\n",
    "cases_response = requests.get(cases_url)\n",
    "recov_response = requests.get(recov_url)\n",
    "deaths_response = requests.get(deaths_url)\n",
    "\n",
    "cases=pd.read_csv(io.StringIO(cases_response.content.decode('utf-8')))\n",
    "recoveries=pd.read_csv(io.StringIO(recov_response.content.decode('utf-8')))\n",
    "deaths=pd.read_csv(io.StringIO(deaths_response.content.decode('utf-8')))"
   ]
  },
  {
   "cell_type": "code",
   "execution_count": 45,
   "metadata": {},
   "outputs": [
    {
     "name": "stdout",
     "output_type": "stream",
     "text": [
      "Please enter country name : Argentina\n",
      "Please enter required date : 6/13/20\n"
     ]
    }
   ],
   "source": [
    "requested_country = input(\"Please enter country name : \")\n",
    "requested_date = input(\"Please enter required date : \")"
   ]
  },
  {
   "cell_type": "code",
   "execution_count": 46,
   "metadata": {},
   "outputs": [
    {
     "name": "stdout",
     "output_type": "stream",
     "text": [
      "30295 9083 815\n"
     ]
    },
    {
     "name": "stderr",
     "output_type": "stream",
     "text": [
      "C:\\Users\\INYANG\\Anaconda3\\lib\\site-packages\\ipykernel_launcher.py:2: UserWarning: Boolean Series key will be reindexed to match DataFrame index.\n",
      "  \n"
     ]
    }
   ],
   "source": [
    "filtered_cases= cases[data[\"Country/Region\"].str.contains(requested_country)]\n",
    "filtered_recoveries = recoveries[data[\"Country/Region\"].str.contains(requested_country)]\n",
    "filtered_deaths = deaths[data[\"Country/Region\"].str.contains(requested_country)]\n",
    "\n",
    "case_data = int(filtered_cases[requested_date])\n",
    "recov_data = int(filtered_recoveries[requested_date])\n",
    "death_data = int(filtered_deaths[requested_date])\n",
    "\n",
    "print(case_data, recov_data, death_data)\n",
    "\n",
    "# if filtered_data.shape[0] > 1:\n",
    "#     print(\"Sorry more than 1 results were found confirm again : \\n\")\n",
    "#     print(filtered_data[\"Country/Region\"], \"\\n\")\n",
    "#     full_requested_country = input(\"Please re-enter with options above : \")\n",
    "#     filtered_data = data[data[\"Country/Region\"].str.contains(full_requested_country)]"
   ]
  },
  {
   "cell_type": "code",
   "execution_count": 47,
   "metadata": {},
   "outputs": [
    {
     "data": {
      "text/plain": [
       "Text(0.5,1,'ARGENTINA 6/13/20')"
      ]
     },
     "execution_count": 47,
     "metadata": {},
     "output_type": "execute_result"
    },
    {
     "data": {
      "image/png": "[encoded data removed]",
      "text/plain": [
       "<Figure size 720x288 with 1 Axes>"
      ]
     },
     "metadata": {
      "needs_background": "light"
     },
     "output_type": "display_data"
    }
   ],
   "source": [
    "plt.figure(figsize = (10,4))\n",
    "plt.bar(['Cases', 'Recoveries', 'Deaths'], [case_data, recov_data, death_data])\n",
    "plt.ylabel(\"Value\")\n",
    "plt.title(f'{requested_country.upper()} {requested_date}')\n"
   ]
  },
  {
   "cell_type": "code",
   "execution_count": 33,
   "metadata": {},
   "outputs": [
    {
     "data": {
      "text/html": [
       "<div>\n",
       "<style scoped>\n",
       "    .dataframe tbody tr th:only-of-type {\n",
       "        vertical-align: middle;\n",
       "    }\n",
       "\n",
       "    .dataframe tbody tr th {\n",
       "        vertical-align: top;\n",
       "    }\n",
       "\n",
       "    .dataframe thead th {\n",
       "        text-align: right;\n",
       "    }\n",
       "</style>\n",
       "<table border=\"1\" class=\"dataframe\">\n",
       "  <thead>\n",
       "    <tr style=\"text-align: right;\">\n",
       "      <th></th>\n",
       "      <th>Province/State</th>\n",
       "      <th>Country/Region</th>\n",
       "      <th>Lat</th>\n",
       "      <th>Long</th>\n",
       "      <th>1/22/20</th>\n",
       "      <th>1/23/20</th>\n",
       "      <th>1/24/20</th>\n",
       "      <th>1/25/20</th>\n",
       "      <th>1/26/20</th>\n",
       "      <th>1/27/20</th>\n",
       "      <th>...</th>\n",
       "      <th>6/4/20</th>\n",
       "      <th>6/5/20</th>\n",
       "      <th>6/6/20</th>\n",
       "      <th>6/7/20</th>\n",
       "      <th>6/8/20</th>\n",
       "      <th>6/9/20</th>\n",
       "      <th>6/10/20</th>\n",
       "      <th>6/11/20</th>\n",
       "      <th>6/12/20</th>\n",
       "      <th>6/13/20</th>\n",
       "    </tr>\n",
       "  </thead>\n",
       "  <tbody>\n",
       "    <tr>\n",
       "      <th>173</th>\n",
       "      <td>NaN</td>\n",
       "      <td>Nigeria</td>\n",
       "      <td>9.082</td>\n",
       "      <td>8.6753</td>\n",
       "      <td>0</td>\n",
       "      <td>0</td>\n",
       "      <td>0</td>\n",
       "      <td>0</td>\n",
       "      <td>0</td>\n",
       "      <td>0</td>\n",
       "      <td>...</td>\n",
       "      <td>11516</td>\n",
       "      <td>11844</td>\n",
       "      <td>12233</td>\n",
       "      <td>12486</td>\n",
       "      <td>12801</td>\n",
       "      <td>13464</td>\n",
       "      <td>13873</td>\n",
       "      <td>14554</td>\n",
       "      <td>15181</td>\n",
       "      <td>15682</td>\n",
       "    </tr>\n",
       "  </tbody>\n",
       "</table>\n",
       "<p>1 rows × 148 columns</p>\n",
       "</div>"
      ],
      "text/plain": [
       "    Province/State Country/Region    Lat    Long  1/22/20  1/23/20  1/24/20  \\\n",
       "173            NaN        Nigeria  9.082  8.6753        0        0        0   \n",
       "\n",
       "     1/25/20  1/26/20  1/27/20   ...     6/4/20  6/5/20  6/6/20  6/7/20  \\\n",
       "173        0        0        0   ...      11516   11844   12233   12486   \n",
       "\n",
       "     6/8/20  6/9/20  6/10/20  6/11/20  6/12/20  6/13/20  \n",
       "173   12801   13464    13873    14554    15181    15682  \n",
       "\n",
       "[1 rows x 148 columns]"
      ]
     },
     "execution_count": 33,
     "metadata": {},
     "output_type": "execute_result"
    }
   ],
   "source": [
    "filtered_data"
   ]
  },
  {
   "cell_type": "code",
   "execution_count": 56,
   "metadata": {},
   "outputs": [],
   "source": [
    "def plot_as_list(countries_and_dates):\n",
    "    \n",
    "    for country, date in countries_and_dates:\n",
    "    \n",
    "        requested_country = country\n",
    "        requested_date = date\n",
    "\n",
    "        filtered_cases= cases[data[\"Country/Region\"].str.contains(requested_country)]\n",
    "        filtered_recoveries = recoveries[data[\"Country/Region\"].str.contains(requested_country)]\n",
    "        filtered_deaths = deaths[data[\"Country/Region\"].str.contains(requested_country)]\n",
    "\n",
    "        case_data = int(filtered_cases[requested_date])\n",
    "        recov_data = int(filtered_recoveries[requested_date])\n",
    "        death_data = int(filtered_deaths[requested_date])\n",
    "\n",
    "        print(case_data, recov_data, death_data)\n",
    "\n",
    "        plt.figure(figsize = (10,4))\n",
    "        plt.bar(['Cases', 'Recoveries', 'Deaths'], [case_data, recov_data, death_data])\n",
    "        plt.ylabel(\"Value\")\n",
    "        plt.title(f'{requested_country.upper()} {requested_date}')\n",
    "        plt.savefig(f\"{country}.jpeg\")"
   ]
  },
  {
   "cell_type": "code",
   "execution_count": 58,
   "metadata": {},
   "outputs": [
    {
     "name": "stderr",
     "output_type": "stream",
     "text": [
      "C:\\Users\\INYANG\\Anaconda3\\lib\\site-packages\\ipykernel_launcher.py:9: UserWarning: Boolean Series key will be reindexed to match DataFrame index.\n",
      "  if __name__ == '__main__':\n"
     ]
    },
    {
     "name": "stdout",
     "output_type": "stream",
     "text": [
      "323 109 10\n"
     ]
    },
    {
     "name": "stderr",
     "output_type": "stream",
     "text": [
      "C:\\Users\\INYANG\\Anaconda3\\lib\\site-packages\\ipykernel_launcher.py:9: UserWarning: Boolean Series key will be reindexed to match DataFrame index.\n",
      "  if __name__ == '__main__':\n"
     ]
    },
    {
     "name": "stdout",
     "output_type": "stream",
     "text": [
      "130 42 5\n"
     ]
    },
    {
     "name": "stderr",
     "output_type": "stream",
     "text": [
      "C:\\Users\\INYANG\\Anaconda3\\lib\\site-packages\\ipykernel_launcher.py:9: UserWarning: Boolean Series key will be reindexed to match DataFrame index.\n",
      "  if __name__ == '__main__':\n"
     ]
    },
    {
     "name": "stdout",
     "output_type": "stream",
     "text": [
      "103 68 11\n"
     ]
    },
    {
     "name": "stderr",
     "output_type": "stream",
     "text": [
      "C:\\Users\\INYANG\\Anaconda3\\lib\\site-packages\\ipykernel_launcher.py:9: UserWarning: Boolean Series key will be reindexed to match DataFrame index.\n",
      "  if __name__ == '__main__':\n"
     ]
    },
    {
     "name": "stdout",
     "output_type": "stream",
     "text": [
      "4851 11 56\n"
     ]
    },
    {
     "data": {
      "image/png": "[encoded data removed]",
      "text/plain": [
       "<Figure size 720x288 with 1 Axes>"
      ]
     },
     "metadata": {
      "needs_background": "light"
     },
     "output_type": "display_data"
    },
    {
     "data": {
      "image/png": "[encoded data removed]",
      "text/plain": [
       "<Figure size 720x288 with 1 Axes>"
      ]
     },
     "metadata": {
      "needs_background": "light"
     },
     "output_type": "display_data"
    },
    {
     "data": {
      "image/png": "[encoded data removed]",
      "text/plain": [
       "<Figure size 720x288 with 1 Axes>"
      ]
     },
     "metadata": {
      "needs_background": "light"
     },
     "output_type": "display_data"
    },
    {
     "data": {
      "image/png": "[encoded data removed]",
      "text/plain": [
       "<Figure size 720x288 with 1 Axes>"
      ]
     },
     "metadata": {
      "needs_background": "light"
     },
     "output_type": "display_data"
    }
   ],
   "source": [
    "list_of_countries_and_dates = [(\"Nigeria\", \"4/12/20\"), (\"Angola\", \"6/12/20\"), (\"Bahamas\", \"6/12/20\"), (\"Senegal\", \"6/12/20\")]\n",
    "\n",
    "plot_as_list(list_of_countries_and_dates)"
   ]
  },
  {
   "cell_type": "code",
   "execution_count": 66,
   "metadata": {},
   "outputs": [],
   "source": [
    "x = list(data.columns[4:])\n",
    "df = pd.DataFrame()\n",
    "df[\"datestr\"] = x"
   ]
  },
  {
   "cell_type": "code",
   "execution_count": 72,
   "metadata": {},
   "outputs": [
    {
     "name": "stdout",
     "output_type": "stream",
     "text": [
      "<class 'pandas.core.frame.DataFrame'>\n",
      "RangeIndex: 144 entries, 0 to 143\n",
      "Data columns (total 1 columns):\n",
      "datestr    144 non-null object\n",
      "dtypes: object(1)\n",
      "memory usage: 1.2+ KB\n"
     ]
    }
   ],
   "source": [
    "df.info()"
   ]
  },
  {
   "cell_type": "code",
   "execution_count": 73,
   "metadata": {},
   "outputs": [],
   "source": [
    "df[\"datetime\"] = pd.to_datetime(df.datestr)"
   ]
  },
  {
   "cell_type": "code",
   "execution_count": 74,
   "metadata": {},
   "outputs": [
    {
     "name": "stdout",
     "output_type": "stream",
     "text": [
      "<class 'pandas.core.frame.DataFrame'>\n",
      "RangeIndex: 144 entries, 0 to 143\n",
      "Data columns (total 2 columns):\n",
      "datestr     144 non-null object\n",
      "datetime    144 non-null datetime64[ns]\n",
      "dtypes: datetime64[ns](1), object(1)\n",
      "memory usage: 2.3+ KB\n"
     ]
    }
   ],
   "source": [
    "df.info()"
   ]
  }
 ],
 "metadata": {
  "kernelspec": {
   "display_name": "Python 3",
   "language": "python",
   "name": "python3"
  },
  "language_info": {
   "codemirror_mode": {
    "name": "ipython",
    "version": 3
   },
   "file_extension": ".py",
   "mimetype": "text/x-python",
   "name": "python",
   "nbconvert_exporter": "python",
   "pygments_lexer": "ipython3",
   "version": "3.7.0"
  }
 },
 "nbformat": 4,
 "nbformat_minor": 2
}
